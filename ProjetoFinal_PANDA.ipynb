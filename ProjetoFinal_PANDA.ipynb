{
 "cells": [
  {
   "attachments": {},
   "cell_type": "markdown",
   "metadata": {},
   "source": [
    "# Projeto Final PANDA "
   ]
  },
  {
   "attachments": {},
   "cell_type": "markdown",
   "metadata": {},
   "source": [
    "### Universidade Federal de São Carlos\n",
    "### Aluno : Yago David Pimenta    RA : 800273"
   ]
  },
  {
   "attachments": {},
   "cell_type": "markdown",
   "metadata": {},
   "source": [
    "#### 1 etapa - Importar as bibliotecas"
   ]
  },
  {
   "cell_type": "code",
   "execution_count": 1,
   "metadata": {},
   "outputs": [],
   "source": [
    "import datetime as dt\n",
    "import matplotlib.pyplot as plt\n",
    "import numpy as np\n",
    "import pandas as pd\n",
    "import plotly.graph_objects as go\n",
    "import seaborn as sns\n",
    "from sklearn.cluster import KMeans\n"
   ]
  },
  {
   "attachments": {},
   "cell_type": "markdown",
   "metadata": {},
   "source": [
    "#### 2 etapa - Selecionar o dataset e descrevê-lo"
   ]
  },
  {
   "cell_type": "code",
   "execution_count": 2,
   "metadata": {},
   "outputs": [
    {
     "name": "stderr",
     "output_type": "stream",
     "text": [
      "/tmp/ipykernel_8478/1057558914.py:1: DtypeWarning: Columns (6) have mixed types. Specify dtype option on import or set low_memory=False.\n",
      "  df = pd.read_csv(\"/home/yago/Desktop/4Periodo/materias/Panda/br_tse_eleicoes_2018_2022.csv\")\n"
     ]
    }
   ],
   "source": [
    "df = pd.read_csv(\"/home/yago/Desktop/4Periodo/materias/Panda/br_tse_eleicoes_2018_2022.csv\")"
   ]
  },
  {
   "cell_type": "code",
   "execution_count": 4,
   "metadata": {},
   "outputs": [
    {
     "data": {
      "text/html": [
       "<div>\n",
       "<style scoped>\n",
       "    .dataframe tbody tr th:only-of-type {\n",
       "        vertical-align: middle;\n",
       "    }\n",
       "\n",
       "    .dataframe tbody tr th {\n",
       "        vertical-align: top;\n",
       "    }\n",
       "\n",
       "    .dataframe thead th {\n",
       "        text-align: right;\n",
       "    }\n",
       "</style>\n",
       "<table border=\"1\" class=\"dataframe\">\n",
       "  <thead>\n",
       "    <tr style=\"text-align: right;\">\n",
       "      <th></th>\n",
       "      <th>ano</th>\n",
       "      <th>tipo_eleicao</th>\n",
       "      <th>sigla_uf</th>\n",
       "      <th>id_municipio</th>\n",
       "      <th>id_municipio_tse</th>\n",
       "      <th>id_candidato_bd</th>\n",
       "      <th>cpf</th>\n",
       "      <th>titulo_eleitoral</th>\n",
       "      <th>sequencial</th>\n",
       "      <th>numero</th>\n",
       "      <th>...</th>\n",
       "      <th>data_nascimento</th>\n",
       "      <th>idade</th>\n",
       "      <th>genero</th>\n",
       "      <th>instrucao</th>\n",
       "      <th>estado_civil</th>\n",
       "      <th>nacionalidade</th>\n",
       "      <th>sigla_uf_nascimento</th>\n",
       "      <th>municipio_nascimento</th>\n",
       "      <th>email</th>\n",
       "      <th>raca</th>\n",
       "    </tr>\n",
       "  </thead>\n",
       "  <tbody>\n",
       "    <tr>\n",
       "      <th>0</th>\n",
       "      <td>2018</td>\n",
       "      <td>eleicao ordinaria</td>\n",
       "      <td>DF</td>\n",
       "      <td>NaN</td>\n",
       "      <td>NaN</td>\n",
       "      <td>105.0</td>\n",
       "      <td>1333015160</td>\n",
       "      <td>87699770400</td>\n",
       "      <td>70000612418</td>\n",
       "      <td>18007</td>\n",
       "      <td>...</td>\n",
       "      <td>1985-05-01</td>\n",
       "      <td>33.0</td>\n",
       "      <td>feminino</td>\n",
       "      <td>ensino superior completo</td>\n",
       "      <td>divorciado(a)</td>\n",
       "      <td>brasileira</td>\n",
       "      <td>RS</td>\n",
       "      <td>Porto Alegre</td>\n",
       "      <td>lizianebrauner@hotmailcom</td>\n",
       "      <td>branca</td>\n",
       "    </tr>\n",
       "    <tr>\n",
       "      <th>1</th>\n",
       "      <td>2018</td>\n",
       "      <td>eleicao ordinaria</td>\n",
       "      <td>RR</td>\n",
       "      <td>NaN</td>\n",
       "      <td>NaN</td>\n",
       "      <td>270.0</td>\n",
       "      <td>32293593215</td>\n",
       "      <td>3011792682</td>\n",
       "      <td>230000605201</td>\n",
       "      <td>54300</td>\n",
       "      <td>...</td>\n",
       "      <td>1970-06-13</td>\n",
       "      <td>48.0</td>\n",
       "      <td>masculino</td>\n",
       "      <td>ensino medio completo</td>\n",
       "      <td>casado(a)</td>\n",
       "      <td>brasileira</td>\n",
       "      <td>PI</td>\n",
       "      <td>Inhuma</td>\n",
       "      <td>elivaldocruzrr@hotmailcom</td>\n",
       "      <td>parda</td>\n",
       "    </tr>\n",
       "    <tr>\n",
       "      <th>2</th>\n",
       "      <td>2018</td>\n",
       "      <td>eleicao ordinaria</td>\n",
       "      <td>RR</td>\n",
       "      <td>NaN</td>\n",
       "      <td>NaN</td>\n",
       "      <td>537.0</td>\n",
       "      <td>32307209204</td>\n",
       "      <td>2718862631</td>\n",
       "      <td>230000615943</td>\n",
       "      <td>1888</td>\n",
       "      <td>...</td>\n",
       "      <td>1973-03-04</td>\n",
       "      <td>46.0</td>\n",
       "      <td>masculino</td>\n",
       "      <td>ensino superior completo</td>\n",
       "      <td>casado(a)</td>\n",
       "      <td>brasileira</td>\n",
       "      <td>PA</td>\n",
       "      <td>Belém</td>\n",
       "      <td>cirororaima@yahoocombr</td>\n",
       "      <td>parda</td>\n",
       "    </tr>\n",
       "    <tr>\n",
       "      <th>3</th>\n",
       "      <td>2018</td>\n",
       "      <td>eleicao ordinaria</td>\n",
       "      <td>PR</td>\n",
       "      <td>NaN</td>\n",
       "      <td>NaN</td>\n",
       "      <td>713.0</td>\n",
       "      <td>32315457904</td>\n",
       "      <td>15458640647</td>\n",
       "      <td>160000629332</td>\n",
       "      <td>27115</td>\n",
       "      <td>...</td>\n",
       "      <td>1957-04-01</td>\n",
       "      <td>62.0</td>\n",
       "      <td>feminino</td>\n",
       "      <td>ensino medio completo</td>\n",
       "      <td>casado(a)</td>\n",
       "      <td>brasileira</td>\n",
       "      <td>PR</td>\n",
       "      <td>Colombo</td>\n",
       "      <td>olescoveaup2016@gmailcom</td>\n",
       "      <td>branca</td>\n",
       "    </tr>\n",
       "    <tr>\n",
       "      <th>4</th>\n",
       "      <td>2018</td>\n",
       "      <td>eleicao ordinaria</td>\n",
       "      <td>RR</td>\n",
       "      <td>NaN</td>\n",
       "      <td>NaN</td>\n",
       "      <td>753.0</td>\n",
       "      <td>32317760230</td>\n",
       "      <td>1159942615</td>\n",
       "      <td>230000605200</td>\n",
       "      <td>54444</td>\n",
       "      <td>...</td>\n",
       "      <td>1971-02-12</td>\n",
       "      <td>48.0</td>\n",
       "      <td>masculino</td>\n",
       "      <td>ensino fundamental completo</td>\n",
       "      <td>solteiro(a)</td>\n",
       "      <td>brasileira</td>\n",
       "      <td>RR</td>\n",
       "      <td>Boa Vista</td>\n",
       "      <td>girdenitorreias65@outlookcom</td>\n",
       "      <td>parda</td>\n",
       "    </tr>\n",
       "  </tbody>\n",
       "</table>\n",
       "<p>5 rows × 27 columns</p>\n",
       "</div>"
      ],
      "text/plain": [
       "    ano       tipo_eleicao sigla_uf  id_municipio  id_municipio_tse  \\\n",
       "0  2018  eleicao ordinaria       DF           NaN               NaN   \n",
       "1  2018  eleicao ordinaria       RR           NaN               NaN   \n",
       "2  2018  eleicao ordinaria       RR           NaN               NaN   \n",
       "3  2018  eleicao ordinaria       PR           NaN               NaN   \n",
       "4  2018  eleicao ordinaria       RR           NaN               NaN   \n",
       "\n",
       "   id_candidato_bd          cpf  titulo_eleitoral    sequencial  numero  ...  \\\n",
       "0            105.0   1333015160       87699770400   70000612418   18007  ...   \n",
       "1            270.0  32293593215        3011792682  230000605201   54300  ...   \n",
       "2            537.0  32307209204        2718862631  230000615943    1888  ...   \n",
       "3            713.0  32315457904       15458640647  160000629332   27115  ...   \n",
       "4            753.0  32317760230        1159942615  230000605200   54444  ...   \n",
       "\n",
       "  data_nascimento idade     genero                    instrucao  \\\n",
       "0      1985-05-01  33.0   feminino     ensino superior completo   \n",
       "1      1970-06-13  48.0  masculino        ensino medio completo   \n",
       "2      1973-03-04  46.0  masculino     ensino superior completo   \n",
       "3      1957-04-01  62.0   feminino        ensino medio completo   \n",
       "4      1971-02-12  48.0  masculino  ensino fundamental completo   \n",
       "\n",
       "    estado_civil nacionalidade sigla_uf_nascimento municipio_nascimento  \\\n",
       "0  divorciado(a)    brasileira                  RS         Porto Alegre   \n",
       "1      casado(a)    brasileira                  PI               Inhuma   \n",
       "2      casado(a)    brasileira                  PA                Belém   \n",
       "3      casado(a)    brasileira                  PR              Colombo   \n",
       "4    solteiro(a)    brasileira                  RR           Boa Vista    \n",
       "\n",
       "                          email    raca  \n",
       "0     lizianebrauner@hotmailcom  branca  \n",
       "1     elivaldocruzrr@hotmailcom   parda  \n",
       "2        cirororaima@yahoocombr   parda  \n",
       "3      olescoveaup2016@gmailcom  branca  \n",
       "4  girdenitorreias65@outlookcom   parda  \n",
       "\n",
       "[5 rows x 27 columns]"
      ]
     },
     "execution_count": 4,
     "metadata": {},
     "output_type": "execute_result"
    }
   ],
   "source": [
    "df.head(5)"
   ]
  },
  {
   "cell_type": "code",
   "execution_count": 5,
   "metadata": {},
   "outputs": [
    {
     "name": "stdout",
     "output_type": "stream",
     "text": [
      "<class 'pandas.core.frame.DataFrame'>\n",
      "RangeIndex: 614352 entries, 0 to 614351\n",
      "Data columns (total 27 columns):\n",
      " #   Column                Non-Null Count   Dtype  \n",
      "---  ------                --------------   -----  \n",
      " 0   ano                   614352 non-null  int64  \n",
      " 1   tipo_eleicao          614352 non-null  object \n",
      " 2   sigla_uf              614301 non-null  object \n",
      " 3   id_municipio          556407 non-null  float64\n",
      " 4   id_municipio_tse      556407 non-null  float64\n",
      " 5   id_candidato_bd       613644 non-null  float64\n",
      " 6   cpf                   614352 non-null  object \n",
      " 7   titulo_eleitoral      614352 non-null  int64  \n",
      " 8   sequencial            614352 non-null  int64  \n",
      " 9   numero                614352 non-null  int64  \n",
      " 10  nome                  614352 non-null  object \n",
      " 11  nome_urna             614352 non-null  object \n",
      " 12  numero_partido        614352 non-null  int64  \n",
      " 13  sigla_partido         614352 non-null  object \n",
      " 14  cargo                 614352 non-null  object \n",
      " 15  situacao              614352 non-null  object \n",
      " 16  ocupacao              614327 non-null  object \n",
      " 17  data_nascimento       614325 non-null  object \n",
      " 18  idade                 614320 non-null  float64\n",
      " 19  genero                614327 non-null  object \n",
      " 20  instrucao             614327 non-null  object \n",
      " 21  estado_civil          614327 non-null  object \n",
      " 22  nacionalidade         614327 non-null  object \n",
      " 23  sigla_uf_nascimento   614352 non-null  object \n",
      " 24  municipio_nascimento  614328 non-null  object \n",
      " 25  email                 585357 non-null  object \n",
      " 26  raca                  607974 non-null  object \n",
      "dtypes: float64(4), int64(5), object(18)\n",
      "memory usage: 126.6+ MB\n"
     ]
    }
   ],
   "source": [
    "df.info()"
   ]
  },
  {
   "cell_type": "code",
   "execution_count": 6,
   "metadata": {},
   "outputs": [
    {
     "data": {
      "text/plain": [
       "Index(['ano', 'tipo_eleicao', 'sigla_uf', 'id_municipio', 'id_municipio_tse',\n",
       "       'id_candidato_bd', 'cpf', 'titulo_eleitoral', 'sequencial', 'numero',\n",
       "       'nome', 'nome_urna', 'numero_partido', 'sigla_partido', 'cargo',\n",
       "       'situacao', 'ocupacao', 'data_nascimento', 'idade', 'genero',\n",
       "       'instrucao', 'estado_civil', 'nacionalidade', 'sigla_uf_nascimento',\n",
       "       'municipio_nascimento', 'email', 'raca'],\n",
       "      dtype='object')"
      ]
     },
     "execution_count": 6,
     "metadata": {},
     "output_type": "execute_result"
    }
   ],
   "source": [
    "df.columns"
   ]
  },
  {
   "attachments": {},
   "cell_type": "markdown",
   "metadata": {},
   "source": [
    "Vamos entender melhor os atributos e tuplas :\n",
    "\n",
    ". **ano** : ano da eleição\n",
    "\n",
    ". **tipo_eleicao** : tipo dela\n",
    "\n",
    ". **sigla_uf** : sigla da unidade federativa , por exemplo MG = Minas Gerais\n",
    "\n",
    ".**id_municipio** : id do municipio em que a pessoa nasceu\n",
    "\n",
    ".**id_municipio_tse** : id daonde a pessoa vota\n",
    "\n",
    ".**id_candidato_bd** : é uma chave que representa unicamente uma pesosa\n",
    "\n",
    ".**cpf** : cpf da pessoa , também pode ser considerada uma chave\n",
    "\n",
    ".**titulo_eleitoral** : número que consta no título de eleitor\n",
    "\n",
    ".**sequencial** : não sei\n",
    "\n",
    ".**número** : não sei\n",
    "\n",
    ".**nome** : nome completo do(a) candidato(a)\n",
    "\n",
    ".**nome_urna** : como seu nome está cadastrado na urna\n",
    "\n",
    "**numero_partido** :  número do partido\n",
    "\n",
    "**sigla_partido** : sigla do partido \n",
    "\n",
    "**cargo** : cargo concorrido pelo candidato\n",
    "\n",
    "**situação** : se a candidatura foi deferida ou indeferida\n",
    "\n",
    "**ocupação** : qual a profissão que o candidato exerce naquele momento\n",
    "\n",
    "**data_nascimento** : quando o candidato nasceu\n",
    "\n",
    "**idade** : quantos anos ele tem\n",
    "\n",
    "**genero** : apenas masculino ou feminino\n",
    "\n",
    "**intrução** : se ele tem ensino superior completo , ou médio ou fundamental .\n",
    "\n",
    "**estado_civil** : se ele é casado , divorciado , solteiro .\n",
    "\n",
    "**nacionaliadade** : se é brasileiro\n",
    "\n",
    "**sigla_uf_nascimento** : de qual estado ele é\n",
    "\n",
    "**municipio_nascimento** : cidade em que o candidato nasceu\n",
    "\n",
    "**email** : email\n",
    "\n",
    "**raca** : autodeclaração de raça\n",
    "\n",
    "\n",
    "\n"
   ]
  },
  {
   "attachments": {},
   "cell_type": "markdown",
   "metadata": {},
   "source": [
    "========================================================================="
   ]
  },
  {
   "attachments": {},
   "cell_type": "markdown",
   "metadata": {},
   "source": [
    "São muitos atributos que deixam espaço para fazer muitas análises e hipóteses , porém como existe limite de tempo irei focar em 3 que possam abordar todos os conteúdos vistos na matéria , envolvendo pré-processamento , mineração de dados , visualização dos dados , análise estatistica ."
   ]
  },
  {
   "attachments": {},
   "cell_type": "markdown",
   "metadata": {},
   "source": [
    "### 3 etapa - Hipóteses para eu abordar com minha análise dos dados"
   ]
  },
  {
   "attachments": {},
   "cell_type": "markdown",
   "metadata": {},
   "source": [
    "#### 1 -Está ocorrendo uma inversão nas candidatos , existem mais homens com mais de 40 anos candidatos do que mulheres nessa idade , porém existem mais mulheres com menos de 40 anos candidatas do que homens nessa idade"
   ]
  },
  {
   "attachments": {},
   "cell_type": "markdown",
   "metadata": {},
   "source": [
    "Primeiro paaso : Preciso ver se tem algum valor faltante e  quantas opções existe de gênero , haja vista que Feminino é diferente de feminino , por exemplo ."
   ]
  },
  {
   "cell_type": "code",
   "execution_count": 7,
   "metadata": {},
   "outputs": [
    {
     "data": {
      "text/plain": [
       "True"
      ]
     },
     "execution_count": 7,
     "metadata": {},
     "output_type": "execute_result"
    }
   ],
   "source": [
    "df['genero'].isnull().values.any()"
   ]
  },
  {
   "cell_type": "code",
   "execution_count": 8,
   "metadata": {},
   "outputs": [
    {
     "data": {
      "text/plain": [
       "masculino    408708\n",
       "feminino     205619\n",
       "Name: genero, dtype: int64"
      ]
     },
     "execution_count": 8,
     "metadata": {},
     "output_type": "execute_result"
    }
   ],
   "source": [
    "df['genero'].value_counts()"
   ]
  },
  {
   "attachments": {},
   "cell_type": "markdown",
   "metadata": {},
   "source": [
    "Ou seja é uma relação binária e está faltando valores ."
   ]
  },
  {
   "cell_type": "code",
   "execution_count": 9,
   "metadata": {},
   "outputs": [],
   "source": [
    "df.loc[df['idade'] <= 40, 'Hipótese1'] = 'Menos40' \n",
    "df.loc[df['idade'] > 40, 'Hipótese1'] = 'Mais40' "
   ]
  },
  {
   "cell_type": "code",
   "execution_count": 10,
   "metadata": {},
   "outputs": [
    {
     "data": {
      "text/plain": [
       "Mais40     410945\n",
       "Menos40    203375\n",
       "Name: Hipótese1, dtype: int64"
      ]
     },
     "execution_count": 10,
     "metadata": {},
     "output_type": "execute_result"
    }
   ],
   "source": [
    "df['Hipótese1'].value_counts()"
   ]
  },
  {
   "cell_type": "code",
   "execution_count": 11,
   "metadata": {},
   "outputs": [],
   "source": [
    "#Agora preciso fazer condições multiplas\n",
    "Homem_menos40= (df.loc[(df['genero']=='masculino')& (df['Hipótese1']=='Menos40')])"
   ]
  },
  {
   "cell_type": "code",
   "execution_count": 12,
   "metadata": {},
   "outputs": [],
   "source": [
    " a = Homem_menos40.shape[0]"
   ]
  },
  {
   "cell_type": "code",
   "execution_count": 13,
   "metadata": {},
   "outputs": [],
   "source": [
    "Homem_mais40= (df.loc[(df['genero']=='masculino')& (df['Hipótese1']=='Mais40')])"
   ]
  },
  {
   "cell_type": "code",
   "execution_count": 14,
   "metadata": {},
   "outputs": [],
   "source": [
    "b = Homem_mais40.shape[0]"
   ]
  },
  {
   "cell_type": "code",
   "execution_count": 15,
   "metadata": {},
   "outputs": [],
   "source": [
    "Mulher_menos40= (df.loc[(df['genero']=='feminino')& (df['Hipótese1']=='Menos40')])"
   ]
  },
  {
   "cell_type": "code",
   "execution_count": 16,
   "metadata": {},
   "outputs": [],
   "source": [
    "c = Mulher_menos40.shape[0]"
   ]
  },
  {
   "cell_type": "code",
   "execution_count": 17,
   "metadata": {},
   "outputs": [],
   "source": [
    "Mulher_mais40= (df.loc[(df['genero']=='feminino')& (df['Hipótese1']=='Mais40')])"
   ]
  },
  {
   "cell_type": "code",
   "execution_count": 18,
   "metadata": {},
   "outputs": [],
   "source": [
    "d = Mulher_mais40.shape[0]"
   ]
  },
  {
   "attachments": {},
   "cell_type": "markdown",
   "metadata": {},
   "source": [
    "Não consegui plotar de uma forma automática , então fiz essa pequena gambiarra ."
   ]
  },
  {
   "cell_type": "code",
   "execution_count": 26,
   "metadata": {},
   "outputs": [],
   "source": [
    "x = ['Homem_mais40','Homem_menos40','Mulher_mais40','Mulher_menos40']\n",
    "y = [a,b,c,d]\n",
    "colors = ['green','red','blue','pink']"
   ]
  },
  {
   "cell_type": "code",
   "execution_count": 27,
   "metadata": {},
   "outputs": [
    {
     "data": {
      "text/plain": [
       "<BarContainer object of 4 artists>"
      ]
     },
     "execution_count": 27,
     "metadata": {},
     "output_type": "execute_result"
    },
    {
     "data": {
      "image/png": "[encoded data removed]",
      "text/plain": [
       "<Figure size 640x480 with 1 Axes>"
      ]
     },
     "metadata": {},
     "output_type": "display_data"
    }
   ],
   "source": [
    "plt.bar(x,y,color=colors)"
   ]
  },
  {
   "attachments": {},
   "cell_type": "markdown",
   "metadata": {},
   "source": [
    "**Conclusão** : A hipótese foi **rejeitada em parte** , por um lado é inevitável concluir que as mulheres estão ganhando mais espaço político , pois tem mais candidatas mulheres com menos de 40 anos do que com mais . Mas a hipótese não pode ser considerada verdadeira pois os homens com menos de 40 anos também são a maioria ."
   ]
  },
  {
   "attachments": {},
   "cell_type": "markdown",
   "metadata": {},
   "source": [
    "#### 2 -Eixstem poucos candidatos que se autodeclararam indígenas com mais de 80 anos ."
   ]
  },
  {
   "attachments": {},
   "cell_type": "markdown",
   "metadata": {},
   "source": [
    "Minha ideia é fazer um agrupamento por kmeans para mostrar a idade agrupada das raças .\n",
    "\n",
    "Para fazer o Kmeans precisa de apenas númericos , então irei recortar o dataframe "
   ]
  },
  {
   "cell_type": "code",
   "execution_count": 6,
   "metadata": {},
   "outputs": [],
   "source": [
    "df_k = df[['idade','raca']].copy()"
   ]
  },
  {
   "cell_type": "code",
   "execution_count": 8,
   "metadata": {},
   "outputs": [
    {
     "data": {
      "text/html": [
       "<div>\n",
       "<style scoped>\n",
       "    .dataframe tbody tr th:only-of-type {\n",
       "        vertical-align: middle;\n",
       "    }\n",
       "\n",
       "    .dataframe tbody tr th {\n",
       "        vertical-align: top;\n",
       "    }\n",
       "\n",
       "    .dataframe thead th {\n",
       "        text-align: right;\n",
       "    }\n",
       "</style>\n",
       "<table border=\"1\" class=\"dataframe\">\n",
       "  <thead>\n",
       "    <tr style=\"text-align: right;\">\n",
       "      <th></th>\n",
       "      <th>idade</th>\n",
       "      <th>raca</th>\n",
       "    </tr>\n",
       "  </thead>\n",
       "  <tbody>\n",
       "    <tr>\n",
       "      <th>0</th>\n",
       "      <td>33.0</td>\n",
       "      <td>branca</td>\n",
       "    </tr>\n",
       "    <tr>\n",
       "      <th>1</th>\n",
       "      <td>48.0</td>\n",
       "      <td>parda</td>\n",
       "    </tr>\n",
       "    <tr>\n",
       "      <th>2</th>\n",
       "      <td>46.0</td>\n",
       "      <td>parda</td>\n",
       "    </tr>\n",
       "    <tr>\n",
       "      <th>3</th>\n",
       "      <td>62.0</td>\n",
       "      <td>branca</td>\n",
       "    </tr>\n",
       "    <tr>\n",
       "      <th>4</th>\n",
       "      <td>48.0</td>\n",
       "      <td>parda</td>\n",
       "    </tr>\n",
       "  </tbody>\n",
       "</table>\n",
       "</div>"
      ],
      "text/plain": [
       "   idade    raca\n",
       "0   33.0  branca\n",
       "1   48.0   parda\n",
       "2   46.0   parda\n",
       "3   62.0  branca\n",
       "4   48.0   parda"
      ]
     },
     "execution_count": 8,
     "metadata": {},
     "output_type": "execute_result"
    }
   ],
   "source": [
    "df_k.head()"
   ]
  },
  {
   "cell_type": "code",
   "execution_count": 10,
   "metadata": {},
   "outputs": [
    {
     "data": {
      "text/plain": [
       "branca           296648\n",
       "parda            240639\n",
       "preta             65808\n",
       "indigena           2527\n",
       "amarela            2233\n",
       "nao informado       119\n",
       "Name: raca, dtype: int64"
      ]
     },
     "execution_count": 10,
     "metadata": {},
     "output_type": "execute_result"
    }
   ],
   "source": [
    "df_k['raca'].value_counts()"
   ]
  },
  {
   "attachments": {},
   "cell_type": "markdown",
   "metadata": {},
   "source": [
    "Não tem como usar kmeans para string , então irei usar uma designação \n",
    "\n",
    "branca -> 0\n",
    "\n",
    "parda -> 1\n",
    "\n",
    "preta -> 2\n",
    "\n",
    "indigena -> 3\n",
    "\n",
    "amarela -> 4\n",
    "\n",
    "nao informado -> 5"
   ]
  },
  {
   "cell_type": "code",
   "execution_count": 13,
   "metadata": {},
   "outputs": [],
   "source": [
    "df_k.loc[df_k['raca'] =='branca', 'Hipótese2'] = 0 \n",
    "df_k.loc[df_k['raca'] =='parda', 'Hipótese2'] = 1\n",
    "df_k.loc[df_k['raca'] =='preta', 'Hipótese2'] = 2 \n",
    "df_k.loc[df_k['raca'] =='indigena', 'Hipótese2'] = 3 \n",
    "df_k.loc[df_k['raca'] =='amarela', 'Hipótese2'] = 4\n",
    "df_k.loc[df_k['raca'] =='nao informado', 'Hipótese2'] = 5  "
   ]
  },
  {
   "cell_type": "code",
   "execution_count": 17,
   "metadata": {},
   "outputs": [],
   "source": [
    "df_k = df_k.drop(columns='raca')"
   ]
  },
  {
   "cell_type": "code",
   "execution_count": 21,
   "metadata": {},
   "outputs": [
    {
     "data": {
      "text/plain": [
       "True"
      ]
     },
     "execution_count": 21,
     "metadata": {},
     "output_type": "execute_result"
    }
   ],
   "source": [
    "df_k.isnull().values.any()"
   ]
  },
  {
   "attachments": {},
   "cell_type": "markdown",
   "metadata": {},
   "source": [
    "Vamos remover linhas que tiver NaN"
   ]
  },
  {
   "cell_type": "code",
   "execution_count": 22,
   "metadata": {},
   "outputs": [],
   "source": [
    "df_k=df_k.dropna()"
   ]
  },
  {
   "cell_type": "code",
   "execution_count": 24,
   "metadata": {},
   "outputs": [
    {
     "data": {
      "text/html": [
       "<div>\n",
       "<style scoped>\n",
       "    .dataframe tbody tr th:only-of-type {\n",
       "        vertical-align: middle;\n",
       "    }\n",
       "\n",
       "    .dataframe tbody tr th {\n",
       "        vertical-align: top;\n",
       "    }\n",
       "\n",
       "    .dataframe thead th {\n",
       "        text-align: right;\n",
       "    }\n",
       "</style>\n",
       "<table border=\"1\" class=\"dataframe\">\n",
       "  <thead>\n",
       "    <tr style=\"text-align: right;\">\n",
       "      <th></th>\n",
       "      <th>idade</th>\n",
       "      <th>Hipótese2</th>\n",
       "    </tr>\n",
       "  </thead>\n",
       "  <tbody>\n",
       "    <tr>\n",
       "      <th>0</th>\n",
       "      <td>33.0</td>\n",
       "      <td>0.0</td>\n",
       "    </tr>\n",
       "    <tr>\n",
       "      <th>1</th>\n",
       "      <td>48.0</td>\n",
       "      <td>1.0</td>\n",
       "    </tr>\n",
       "    <tr>\n",
       "      <th>2</th>\n",
       "      <td>46.0</td>\n",
       "      <td>1.0</td>\n",
       "    </tr>\n",
       "    <tr>\n",
       "      <th>3</th>\n",
       "      <td>62.0</td>\n",
       "      <td>0.0</td>\n",
       "    </tr>\n",
       "    <tr>\n",
       "      <th>4</th>\n",
       "      <td>48.0</td>\n",
       "      <td>1.0</td>\n",
       "    </tr>\n",
       "  </tbody>\n",
       "</table>\n",
       "</div>"
      ],
      "text/plain": [
       "   idade  Hipótese2\n",
       "0   33.0        0.0\n",
       "1   48.0        1.0\n",
       "2   46.0        1.0\n",
       "3   62.0        0.0\n",
       "4   48.0        1.0"
      ]
     },
     "execution_count": 24,
     "metadata": {},
     "output_type": "execute_result"
    }
   ],
   "source": [
    "df_k.head()"
   ]
  },
  {
   "cell_type": "code",
   "execution_count": 28,
   "metadata": {},
   "outputs": [
    {
     "name": "stderr",
     "output_type": "stream",
     "text": [
      "/home/yago/.local/lib/python3.10/site-packages/sklearn/cluster/_kmeans.py:870: FutureWarning: The default value of `n_init` will change from 10 to 'auto' in 1.4. Set the value of `n_init` explicitly to suppress the warning\n",
      "  warnings.warn(\n"
     ]
    },
    {
     "data": {
      "image/png": "[encoded data removed]",
      "text/plain": [
       "<Figure size 640x480 with 1 Axes>"
      ]
     },
     "metadata": {},
     "output_type": "display_data"
    }
   ],
   "source": [
    "kmeans = KMeans(n_clusters=5)\n",
    "kmeans.fit(df_k)\n",
    "\n",
    "plt.scatter(df_k['idade'], df_k['Hipótese2'], c=kmeans.labels_)\n",
    "plt.title(\"Clustering Ambos sexos\")\n",
    "centroids = kmeans.cluster_centers_\n",
    "plt.scatter(centroids[:,0] , centroids[:,1] , s = 80, color = 'r')\n",
    "plt.show() "
   ]
  },
  {
   "attachments": {},
   "cell_type": "markdown",
   "metadata": {},
   "source": [
    "**Conclusão** : A hipótese foi aceita , uma vez que é visível graças ao agrupamento que forma após os 80 anos o agrupamento amarelo para o grupo 3 ddos indígenas passa a ser esparso , portanto referendamos a hipótese ."
   ]
  },
  {
   "attachments": {},
   "cell_type": "markdown",
   "metadata": {},
   "source": [
    "#### 3 - De 2018 para 2022 o número de candidatos que tem ensino superior completo aumentou"
   ]
  },
  {
   "cell_type": "code",
   "execution_count": 53,
   "metadata": {},
   "outputs": [
    {
     "data": {
      "text/html": [
       "<div>\n",
       "<style scoped>\n",
       "    .dataframe tbody tr th:only-of-type {\n",
       "        vertical-align: middle;\n",
       "    }\n",
       "\n",
       "    .dataframe tbody tr th {\n",
       "        vertical-align: top;\n",
       "    }\n",
       "\n",
       "    .dataframe thead th {\n",
       "        text-align: right;\n",
       "    }\n",
       "</style>\n",
       "<table border=\"1\" class=\"dataframe\">\n",
       "  <thead>\n",
       "    <tr style=\"text-align: right;\">\n",
       "      <th></th>\n",
       "      <th>ano</th>\n",
       "      <th>tipo_eleicao</th>\n",
       "      <th>sigla_uf</th>\n",
       "      <th>id_municipio</th>\n",
       "      <th>id_municipio_tse</th>\n",
       "      <th>id_candidato_bd</th>\n",
       "      <th>cpf</th>\n",
       "      <th>titulo_eleitoral</th>\n",
       "      <th>sequencial</th>\n",
       "      <th>numero</th>\n",
       "      <th>...</th>\n",
       "      <th>idade</th>\n",
       "      <th>genero</th>\n",
       "      <th>instrucao</th>\n",
       "      <th>estado_civil</th>\n",
       "      <th>nacionalidade</th>\n",
       "      <th>sigla_uf_nascimento</th>\n",
       "      <th>municipio_nascimento</th>\n",
       "      <th>email</th>\n",
       "      <th>raca</th>\n",
       "      <th>Hipótese1</th>\n",
       "    </tr>\n",
       "  </thead>\n",
       "  <tbody>\n",
       "    <tr>\n",
       "      <th>0</th>\n",
       "      <td>2018</td>\n",
       "      <td>eleicao ordinaria</td>\n",
       "      <td>DF</td>\n",
       "      <td>NaN</td>\n",
       "      <td>NaN</td>\n",
       "      <td>105.0</td>\n",
       "      <td>1333015160</td>\n",
       "      <td>87699770400</td>\n",
       "      <td>70000612418</td>\n",
       "      <td>18007</td>\n",
       "      <td>...</td>\n",
       "      <td>33.0</td>\n",
       "      <td>feminino</td>\n",
       "      <td>ensino superior completo</td>\n",
       "      <td>divorciado(a)</td>\n",
       "      <td>brasileira</td>\n",
       "      <td>RS</td>\n",
       "      <td>Porto Alegre</td>\n",
       "      <td>lizianebrauner@hotmailcom</td>\n",
       "      <td>branca</td>\n",
       "      <td>Menos40</td>\n",
       "    </tr>\n",
       "    <tr>\n",
       "      <th>1</th>\n",
       "      <td>2018</td>\n",
       "      <td>eleicao ordinaria</td>\n",
       "      <td>RR</td>\n",
       "      <td>NaN</td>\n",
       "      <td>NaN</td>\n",
       "      <td>270.0</td>\n",
       "      <td>32293593215</td>\n",
       "      <td>3011792682</td>\n",
       "      <td>230000605201</td>\n",
       "      <td>54300</td>\n",
       "      <td>...</td>\n",
       "      <td>48.0</td>\n",
       "      <td>masculino</td>\n",
       "      <td>ensino medio completo</td>\n",
       "      <td>casado(a)</td>\n",
       "      <td>brasileira</td>\n",
       "      <td>PI</td>\n",
       "      <td>Inhuma</td>\n",
       "      <td>elivaldocruzrr@hotmailcom</td>\n",
       "      <td>parda</td>\n",
       "      <td>Mais40</td>\n",
       "    </tr>\n",
       "    <tr>\n",
       "      <th>2</th>\n",
       "      <td>2018</td>\n",
       "      <td>eleicao ordinaria</td>\n",
       "      <td>RR</td>\n",
       "      <td>NaN</td>\n",
       "      <td>NaN</td>\n",
       "      <td>537.0</td>\n",
       "      <td>32307209204</td>\n",
       "      <td>2718862631</td>\n",
       "      <td>230000615943</td>\n",
       "      <td>1888</td>\n",
       "      <td>...</td>\n",
       "      <td>46.0</td>\n",
       "      <td>masculino</td>\n",
       "      <td>ensino superior completo</td>\n",
       "      <td>casado(a)</td>\n",
       "      <td>brasileira</td>\n",
       "      <td>PA</td>\n",
       "      <td>Belém</td>\n",
       "      <td>cirororaima@yahoocombr</td>\n",
       "      <td>parda</td>\n",
       "      <td>Mais40</td>\n",
       "    </tr>\n",
       "    <tr>\n",
       "      <th>3</th>\n",
       "      <td>2018</td>\n",
       "      <td>eleicao ordinaria</td>\n",
       "      <td>PR</td>\n",
       "      <td>NaN</td>\n",
       "      <td>NaN</td>\n",
       "      <td>713.0</td>\n",
       "      <td>32315457904</td>\n",
       "      <td>15458640647</td>\n",
       "      <td>160000629332</td>\n",
       "      <td>27115</td>\n",
       "      <td>...</td>\n",
       "      <td>62.0</td>\n",
       "      <td>feminino</td>\n",
       "      <td>ensino medio completo</td>\n",
       "      <td>casado(a)</td>\n",
       "      <td>brasileira</td>\n",
       "      <td>PR</td>\n",
       "      <td>Colombo</td>\n",
       "      <td>olescoveaup2016@gmailcom</td>\n",
       "      <td>branca</td>\n",
       "      <td>Mais40</td>\n",
       "    </tr>\n",
       "    <tr>\n",
       "      <th>4</th>\n",
       "      <td>2018</td>\n",
       "      <td>eleicao ordinaria</td>\n",
       "      <td>RR</td>\n",
       "      <td>NaN</td>\n",
       "      <td>NaN</td>\n",
       "      <td>753.0</td>\n",
       "      <td>32317760230</td>\n",
       "      <td>1159942615</td>\n",
       "      <td>230000605200</td>\n",
       "      <td>54444</td>\n",
       "      <td>...</td>\n",
       "      <td>48.0</td>\n",
       "      <td>masculino</td>\n",
       "      <td>ensino fundamental completo</td>\n",
       "      <td>solteiro(a)</td>\n",
       "      <td>brasileira</td>\n",
       "      <td>RR</td>\n",
       "      <td>Boa Vista</td>\n",
       "      <td>girdenitorreias65@outlookcom</td>\n",
       "      <td>parda</td>\n",
       "      <td>Mais40</td>\n",
       "    </tr>\n",
       "  </tbody>\n",
       "</table>\n",
       "<p>5 rows × 28 columns</p>\n",
       "</div>"
      ],
      "text/plain": [
       "    ano       tipo_eleicao sigla_uf  id_municipio  id_municipio_tse  \\\n",
       "0  2018  eleicao ordinaria       DF           NaN               NaN   \n",
       "1  2018  eleicao ordinaria       RR           NaN               NaN   \n",
       "2  2018  eleicao ordinaria       RR           NaN               NaN   \n",
       "3  2018  eleicao ordinaria       PR           NaN               NaN   \n",
       "4  2018  eleicao ordinaria       RR           NaN               NaN   \n",
       "\n",
       "   id_candidato_bd          cpf  titulo_eleitoral    sequencial  numero  ...  \\\n",
       "0            105.0   1333015160       87699770400   70000612418   18007  ...   \n",
       "1            270.0  32293593215        3011792682  230000605201   54300  ...   \n",
       "2            537.0  32307209204        2718862631  230000615943    1888  ...   \n",
       "3            713.0  32315457904       15458640647  160000629332   27115  ...   \n",
       "4            753.0  32317760230        1159942615  230000605200   54444  ...   \n",
       "\n",
       "  idade     genero                    instrucao   estado_civil nacionalidade  \\\n",
       "0  33.0   feminino     ensino superior completo  divorciado(a)    brasileira   \n",
       "1  48.0  masculino        ensino medio completo      casado(a)    brasileira   \n",
       "2  46.0  masculino     ensino superior completo      casado(a)    brasileira   \n",
       "3  62.0   feminino        ensino medio completo      casado(a)    brasileira   \n",
       "4  48.0  masculino  ensino fundamental completo    solteiro(a)    brasileira   \n",
       "\n",
       "  sigla_uf_nascimento municipio_nascimento                         email  \\\n",
       "0                  RS         Porto Alegre     lizianebrauner@hotmailcom   \n",
       "1                  PI               Inhuma     elivaldocruzrr@hotmailcom   \n",
       "2                  PA                Belém        cirororaima@yahoocombr   \n",
       "3                  PR              Colombo      olescoveaup2016@gmailcom   \n",
       "4                  RR           Boa Vista   girdenitorreias65@outlookcom   \n",
       "\n",
       "     raca Hipótese1  \n",
       "0  branca   Menos40  \n",
       "1   parda    Mais40  \n",
       "2   parda    Mais40  \n",
       "3  branca    Mais40  \n",
       "4   parda    Mais40  \n",
       "\n",
       "[5 rows x 28 columns]"
      ]
     },
     "execution_count": 53,
     "metadata": {},
     "output_type": "execute_result"
    }
   ],
   "source": [
    "df.head()"
   ]
  },
  {
   "cell_type": "code",
   "execution_count": 62,
   "metadata": {},
   "outputs": [
    {
     "data": {
      "text/html": [
       "<div>\n",
       "<style scoped>\n",
       "    .dataframe tbody tr th:only-of-type {\n",
       "        vertical-align: middle;\n",
       "    }\n",
       "\n",
       "    .dataframe tbody tr th {\n",
       "        vertical-align: top;\n",
       "    }\n",
       "\n",
       "    .dataframe thead th {\n",
       "        text-align: right;\n",
       "    }\n",
       "</style>\n",
       "<table border=\"1\" class=\"dataframe\">\n",
       "  <thead>\n",
       "    <tr style=\"text-align: right;\">\n",
       "      <th></th>\n",
       "      <th>index</th>\n",
       "      <th>ano</th>\n",
       "      <th>tipo_eleicao</th>\n",
       "      <th>sigla_uf</th>\n",
       "      <th>id_municipio</th>\n",
       "      <th>id_municipio_tse</th>\n",
       "      <th>id_candidato_bd</th>\n",
       "      <th>cpf</th>\n",
       "      <th>titulo_eleitoral</th>\n",
       "      <th>sequencial</th>\n",
       "      <th>...</th>\n",
       "      <th>idade</th>\n",
       "      <th>genero</th>\n",
       "      <th>instrucao</th>\n",
       "      <th>estado_civil</th>\n",
       "      <th>nacionalidade</th>\n",
       "      <th>sigla_uf_nascimento</th>\n",
       "      <th>municipio_nascimento</th>\n",
       "      <th>email</th>\n",
       "      <th>raca</th>\n",
       "      <th>Hipótese1</th>\n",
       "    </tr>\n",
       "  </thead>\n",
       "  <tbody>\n",
       "    <tr>\n",
       "      <th>0</th>\n",
       "      <td>0</td>\n",
       "      <td>2018</td>\n",
       "      <td>eleicao ordinaria</td>\n",
       "      <td>DF</td>\n",
       "      <td>NaN</td>\n",
       "      <td>NaN</td>\n",
       "      <td>105.0</td>\n",
       "      <td>1333015160</td>\n",
       "      <td>87699770400</td>\n",
       "      <td>70000612418</td>\n",
       "      <td>...</td>\n",
       "      <td>33.0</td>\n",
       "      <td>feminino</td>\n",
       "      <td>ensino superior completo</td>\n",
       "      <td>divorciado(a)</td>\n",
       "      <td>brasileira</td>\n",
       "      <td>RS</td>\n",
       "      <td>Porto Alegre</td>\n",
       "      <td>lizianebrauner@hotmailcom</td>\n",
       "      <td>branca</td>\n",
       "      <td>Menos40</td>\n",
       "    </tr>\n",
       "    <tr>\n",
       "      <th>1</th>\n",
       "      <td>1</td>\n",
       "      <td>2018</td>\n",
       "      <td>eleicao ordinaria</td>\n",
       "      <td>RR</td>\n",
       "      <td>NaN</td>\n",
       "      <td>NaN</td>\n",
       "      <td>270.0</td>\n",
       "      <td>32293593215</td>\n",
       "      <td>3011792682</td>\n",
       "      <td>230000605201</td>\n",
       "      <td>...</td>\n",
       "      <td>48.0</td>\n",
       "      <td>masculino</td>\n",
       "      <td>ensino medio completo</td>\n",
       "      <td>casado(a)</td>\n",
       "      <td>brasileira</td>\n",
       "      <td>PI</td>\n",
       "      <td>Inhuma</td>\n",
       "      <td>elivaldocruzrr@hotmailcom</td>\n",
       "      <td>parda</td>\n",
       "      <td>Mais40</td>\n",
       "    </tr>\n",
       "    <tr>\n",
       "      <th>2</th>\n",
       "      <td>2</td>\n",
       "      <td>2018</td>\n",
       "      <td>eleicao ordinaria</td>\n",
       "      <td>RR</td>\n",
       "      <td>NaN</td>\n",
       "      <td>NaN</td>\n",
       "      <td>537.0</td>\n",
       "      <td>32307209204</td>\n",
       "      <td>2718862631</td>\n",
       "      <td>230000615943</td>\n",
       "      <td>...</td>\n",
       "      <td>46.0</td>\n",
       "      <td>masculino</td>\n",
       "      <td>ensino superior completo</td>\n",
       "      <td>casado(a)</td>\n",
       "      <td>brasileira</td>\n",
       "      <td>PA</td>\n",
       "      <td>Belém</td>\n",
       "      <td>cirororaima@yahoocombr</td>\n",
       "      <td>parda</td>\n",
       "      <td>Mais40</td>\n",
       "    </tr>\n",
       "    <tr>\n",
       "      <th>3</th>\n",
       "      <td>3</td>\n",
       "      <td>2018</td>\n",
       "      <td>eleicao ordinaria</td>\n",
       "      <td>PR</td>\n",
       "      <td>NaN</td>\n",
       "      <td>NaN</td>\n",
       "      <td>713.0</td>\n",
       "      <td>32315457904</td>\n",
       "      <td>15458640647</td>\n",
       "      <td>160000629332</td>\n",
       "      <td>...</td>\n",
       "      <td>62.0</td>\n",
       "      <td>feminino</td>\n",
       "      <td>ensino medio completo</td>\n",
       "      <td>casado(a)</td>\n",
       "      <td>brasileira</td>\n",
       "      <td>PR</td>\n",
       "      <td>Colombo</td>\n",
       "      <td>olescoveaup2016@gmailcom</td>\n",
       "      <td>branca</td>\n",
       "      <td>Mais40</td>\n",
       "    </tr>\n",
       "    <tr>\n",
       "      <th>4</th>\n",
       "      <td>4</td>\n",
       "      <td>2018</td>\n",
       "      <td>eleicao ordinaria</td>\n",
       "      <td>RR</td>\n",
       "      <td>NaN</td>\n",
       "      <td>NaN</td>\n",
       "      <td>753.0</td>\n",
       "      <td>32317760230</td>\n",
       "      <td>1159942615</td>\n",
       "      <td>230000605200</td>\n",
       "      <td>...</td>\n",
       "      <td>48.0</td>\n",
       "      <td>masculino</td>\n",
       "      <td>ensino fundamental completo</td>\n",
       "      <td>solteiro(a)</td>\n",
       "      <td>brasileira</td>\n",
       "      <td>RR</td>\n",
       "      <td>Boa Vista</td>\n",
       "      <td>girdenitorreias65@outlookcom</td>\n",
       "      <td>parda</td>\n",
       "      <td>Mais40</td>\n",
       "    </tr>\n",
       "  </tbody>\n",
       "</table>\n",
       "<p>5 rows × 29 columns</p>\n",
       "</div>"
      ],
      "text/plain": [
       "   index   ano       tipo_eleicao sigla_uf  id_municipio  id_municipio_tse  \\\n",
       "0      0  2018  eleicao ordinaria       DF           NaN               NaN   \n",
       "1      1  2018  eleicao ordinaria       RR           NaN               NaN   \n",
       "2      2  2018  eleicao ordinaria       RR           NaN               NaN   \n",
       "3      3  2018  eleicao ordinaria       PR           NaN               NaN   \n",
       "4      4  2018  eleicao ordinaria       RR           NaN               NaN   \n",
       "\n",
       "   id_candidato_bd          cpf  titulo_eleitoral    sequencial  ...  idade  \\\n",
       "0            105.0   1333015160       87699770400   70000612418  ...   33.0   \n",
       "1            270.0  32293593215        3011792682  230000605201  ...   48.0   \n",
       "2            537.0  32307209204        2718862631  230000615943  ...   46.0   \n",
       "3            713.0  32315457904       15458640647  160000629332  ...   62.0   \n",
       "4            753.0  32317760230        1159942615  230000605200  ...   48.0   \n",
       "\n",
       "      genero                    instrucao   estado_civil nacionalidade  \\\n",
       "0   feminino     ensino superior completo  divorciado(a)    brasileira   \n",
       "1  masculino        ensino medio completo      casado(a)    brasileira   \n",
       "2  masculino     ensino superior completo      casado(a)    brasileira   \n",
       "3   feminino        ensino medio completo      casado(a)    brasileira   \n",
       "4  masculino  ensino fundamental completo    solteiro(a)    brasileira   \n",
       "\n",
       "  sigla_uf_nascimento municipio_nascimento                         email  \\\n",
       "0                  RS         Porto Alegre     lizianebrauner@hotmailcom   \n",
       "1                  PI               Inhuma     elivaldocruzrr@hotmailcom   \n",
       "2                  PA                Belém        cirororaima@yahoocombr   \n",
       "3                  PR              Colombo      olescoveaup2016@gmailcom   \n",
       "4                  RR           Boa Vista   girdenitorreias65@outlookcom   \n",
       "\n",
       "     raca  Hipótese1  \n",
       "0  branca    Menos40  \n",
       "1   parda     Mais40  \n",
       "2   parda     Mais40  \n",
       "3  branca     Mais40  \n",
       "4   parda     Mais40  \n",
       "\n",
       "[5 rows x 29 columns]"
      ]
     },
     "execution_count": 62,
     "metadata": {},
     "output_type": "execute_result"
    }
   ],
   "source": [
    "df_3 = df.reset_index()\n",
    "df_3.head()"
   ]
  },
  {
   "cell_type": "code",
   "execution_count": 63,
   "metadata": {},
   "outputs": [
    {
     "data": {
      "text/plain": [
       "<AxesSubplot: xlabel='ano', ylabel='index'>"
      ]
     },
     "execution_count": 63,
     "metadata": {},
     "output_type": "execute_result"
    },
    {
     "data": {
      "image/png": "[encoded data removed]",
      "text/plain": [
       "<Figure size 640x480 with 1 Axes>"
      ]
     },
     "metadata": {},
     "output_type": "display_data"
    }
   ],
   "source": [
    "sns.lineplot(data=df_3,x='ano',y='index',hue='instrucao')"
   ]
  },
  {
   "attachments": {},
   "cell_type": "markdown",
   "metadata": {},
   "source": [
    "A visualização ficou muito ruim , então irei melhorar isso ."
   ]
  },
  {
   "cell_type": "code",
   "execution_count": 64,
   "metadata": {},
   "outputs": [
    {
     "data": {
      "text/plain": [
       "ensino medio completo            227917\n",
       "ensino superior completo         165092\n",
       "ensino fundamental incompleto     72793\n",
       "ensino fundamental completo       70998\n",
       "ensino superior incompleto        30259\n",
       "ensino medio incompleto           29163\n",
       "le e escreve                      18090\n",
       "analfabeto                           15\n",
       "Name: instrucao, dtype: int64"
      ]
     },
     "execution_count": 64,
     "metadata": {},
     "output_type": "execute_result"
    }
   ],
   "source": [
    "df_3['instrucao'].value_counts()"
   ]
  },
  {
   "attachments": {},
   "cell_type": "markdown",
   "metadata": {},
   "source": [
    "Para fins do trabalho , não me intressa se foi incompleto ou não a instrução do candidato"
   ]
  },
  {
   "cell_type": "code",
   "execution_count": 69,
   "metadata": {},
   "outputs": [],
   "source": [
    "df_3= (df.loc[(df['instrucao']=='ensino medio completo') | (df['instrucao']=='ensino superior completo') | (df['instrucao']=='ensino fundamental completo')])"
   ]
  },
  {
   "cell_type": "code",
   "execution_count": 66,
   "metadata": {},
   "outputs": [],
   "source": [
    "df_3 = df_3.reset_index()"
   ]
  },
  {
   "cell_type": "code",
   "execution_count": 67,
   "metadata": {},
   "outputs": [
    {
     "data": {
      "text/plain": [
       "<AxesSubplot: xlabel='ano', ylabel='index'>"
      ]
     },
     "execution_count": 67,
     "metadata": {},
     "output_type": "execute_result"
    },
    {
     "data": {
      "image/png": "[encoded data removed]",
      "text/plain": [
       "<Figure size 640x480 with 1 Axes>"
      ]
     },
     "metadata": {},
     "output_type": "display_data"
    }
   ],
   "source": [
    "sns.lineplot(data=df_3,x='ano',y='index',hue='instrucao')"
   ]
  },
  {
   "attachments": {},
   "cell_type": "markdown",
   "metadata": {},
   "source": [
    "Temo outro problema : O número de candidatos das eleições de 2020 é muito maior do que as eleições para cargos não municipais ."
   ]
  },
  {
   "cell_type": "code",
   "execution_count": 72,
   "metadata": {},
   "outputs": [],
   "source": [
    "df_3= (df_3.loc[(df_3['ano']==2018) | (df_3['ano']==2022) ])"
   ]
  },
  {
   "cell_type": "code",
   "execution_count": 75,
   "metadata": {},
   "outputs": [],
   "source": [
    "df_3 = df_3.reset_index()"
   ]
  },
  {
   "cell_type": "code",
   "execution_count": 76,
   "metadata": {},
   "outputs": [
    {
     "data": {
      "text/plain": [
       "<AxesSubplot: xlabel='ano', ylabel='index'>"
      ]
     },
     "execution_count": 76,
     "metadata": {},
     "output_type": "execute_result"
    },
    {
     "data": {
      "image/png": "[encoded data removed]",
      "text/plain": [
       "<Figure size 640x480 with 1 Axes>"
      ]
     },
     "metadata": {},
     "output_type": "display_data"
    }
   ],
   "source": [
    "sns.lineplot(data=df_3,x='ano',y='index',hue='instrucao')"
   ]
  },
  {
   "attachments": {},
   "cell_type": "markdown",
   "metadata": {},
   "source": [
    "**Conclus]ao** : A hipótese por si só é **falsa** , porém vale salientar que ela não mede muita coisa . Pois não sabemos se o número de candidatos diminuiu drasticamente entre 2018 e 2022 então não dá para tirar conclusões concretas apenas em cima dessa gráfico ."
   ]
  },
  {
   "attachments": {},
   "cell_type": "markdown",
   "metadata": {},
   "source": [
    "#### 4 - De 2018 para 2022 houve um aumento no número de candidatos casados e uma diminuição nos solteiros ."
   ]
  },
  {
   "cell_type": "code",
   "execution_count": 29,
   "metadata": {},
   "outputs": [
    {
     "data": {
      "text/plain": [
       "casado(a)        316004\n",
       "solteiro(a)      225976\n",
       "divorciado(a)     60601\n",
       "viuvo(a)          11746\n",
       "Name: estado_civil, dtype: int64"
      ]
     },
     "execution_count": 29,
     "metadata": {},
     "output_type": "execute_result"
    }
   ],
   "source": [
    "df['estado_civil'].value_counts()"
   ]
  },
  {
   "cell_type": "code",
   "execution_count": 49,
   "metadata": {},
   "outputs": [],
   "source": [
    "df_casado2018 = (df.loc[(df['estado_civil']=='casado(a)') & (df['ano']==2018) ])\n",
    "df_solteiro2018 =  (df.loc[(df['estado_civil']=='solteiro(a)')&(df['ano']==2018) ])\n",
    "df_casado2022 = (df.loc[(df['estado_civil']=='casado(a)') & (df['ano']==2022) ])\n",
    "df_solteiro2022 =  (df.loc[(df['estado_civil']=='solteiro(a)')&(df['ano']==2022) ])\n",
    "a = df_casado2018.shape[0]\n",
    "b = df_casado2022.shape[0]\n",
    "c = df_solteiro2018.shape[0]\n",
    "d = df_solteiro2022.shape[0]"
   ]
  },
  {
   "cell_type": "code",
   "execution_count": 43,
   "metadata": {},
   "outputs": [],
   "source": [
    "time = [i for i in range(df.shape[0])]\n",
    "series = np.array(df['estado_civil'])\n",
    "times = np.array(time)"
   ]
  },
  {
   "cell_type": "code",
   "execution_count": 45,
   "metadata": {},
   "outputs": [
    {
     "data": {
      "application/vnd.plotly.v1+json": {
       "config": {
        "plotlyServerURL": "https://plot.ly"
       },
       "data": [
        {
         "mode": "lines",
         "name": "Casado",
         "type": "scatter",
         "x": [
          2018,
          2022
         ],
         "y": [
          15769,
          15191
         ]
        },
        {
         "mode": "lines",
         "name": "Solteiro",
         "type": "scatter",
         "x": [
          2018,
          2022
         ],
         "y": [
          9163,
          9187
         ]
        }
       ],
       "layout": {
        "template": {
         "data": {
          "bar": [
           {
            "error_x": {
             "color": "#2a3f5f"
            },
            "error_y": {
             "color": "#2a3f5f"
            },
            "marker": {
             "line": {
              "color": "#E5ECF6",
              "width": 0.5
             },
             "pattern": {
              "fillmode": "overlay",
              "size": 10,
              "solidity": 0.2
             }
            },
            "type": "bar"
           }
          ],
          "barpolar": [
           {
            "marker": {
             "line": {
              "color": "#E5ECF6",
              "width": 0.5
             },
             "pattern": {
              "fillmode": "overlay",
              "size": 10,
              "solidity": 0.2
             }
            },
            "type": "barpolar"
           }
          ],
          "carpet": [
           {
            "aaxis": {
             "endlinecolor": "#2a3f5f",
             "gridcolor": "white",
             "linecolor": "white",
             "minorgridcolor": "white",
             "startlinecolor": "#2a3f5f"
            },
            "baxis": {
             "endlinecolor": "#2a3f5f",
             "gridcolor": "white",
             "linecolor": "white",
             "minorgridcolor": "white",
             "startlinecolor": "#2a3f5f"
            },
            "type": "carpet"
           }
          ],
          "choropleth": [
           {
            "colorbar": {
             "outlinewidth": 0,
             "ticks": ""
            },
            "type": "choropleth"
           }
          ],
          "contour": [
           {
            "colorbar": {
             "outlinewidth": 0,
             "ticks": ""
            },
            "colorscale": [
             [
              0,
              "#0d0887"
             ],
             [
              0.1111111111111111,
              "#46039f"
             ],
             [
              0.2222222222222222,
              "#7201a8"
             ],
             [
              0.3333333333333333,
              "#9c179e"
             ],
             [
              0.4444444444444444,
              "#bd3786"
             ],
             [
              0.5555555555555556,
              "#d8576b"
             ],
             [
              0.6666666666666666,
              "#ed7953"
             ],
             [
              0.7777777777777778,
              "#fb9f3a"
             ],
             [
              0.8888888888888888,
              "#fdca26"
             ],
             [
              1,
              "#f0f921"
             ]
            ],
            "type": "contour"
           }
          ],
          "contourcarpet": [
           {
            "colorbar": {
             "outlinewidth": 0,
             "ticks": ""
            },
            "type": "contourcarpet"
           }
          ],
          "heatmap": [
           {
            "colorbar": {
             "outlinewidth": 0,
             "ticks": ""
            },
            "colorscale": [
             [
              0,
              "#0d0887"
             ],
             [
              0.1111111111111111,
              "#46039f"
             ],
             [
              0.2222222222222222,
              "#7201a8"
             ],
             [
              0.3333333333333333,
              "#9c179e"
             ],
             [
              0.4444444444444444,
              "#bd3786"
             ],
             [
              0.5555555555555556,
              "#d8576b"
             ],
             [
              0.6666666666666666,
              "#ed7953"
             ],
             [
              0.7777777777777778,
              "#fb9f3a"
             ],
             [
              0.8888888888888888,
              "#fdca26"
             ],
             [
              1,
              "#f0f921"
             ]
            ],
            "type": "heatmap"
           }
          ],
          "heatmapgl": [
           {
            "colorbar": {
             "outlinewidth": 0,
             "ticks": ""
            },
            "colorscale": [
             [
              0,
              "#0d0887"
             ],
             [
              0.1111111111111111,
              "#46039f"
             ],
             [
              0.2222222222222222,
              "#7201a8"
             ],
             [
              0.3333333333333333,
              "#9c179e"
             ],
             [
              0.4444444444444444,
              "#bd3786"
             ],
             [
              0.5555555555555556,
              "#d8576b"
             ],
             [
              0.6666666666666666,
              "#ed7953"
             ],
             [
              0.7777777777777778,
              "#fb9f3a"
             ],
             [
              0.8888888888888888,
              "#fdca26"
             ],
             [
              1,
              "#f0f921"
             ]
            ],
            "type": "heatmapgl"
           }
          ],
          "histogram": [
           {
            "marker": {
             "pattern": {
              "fillmode": "overlay",
              "size": 10,
              "solidity": 0.2
             }
            },
            "type": "histogram"
           }
          ],
          "histogram2d": [
           {
            "colorbar": {
             "outlinewidth": 0,
             "ticks": ""
            },
            "colorscale": [
             [
              0,
              "#0d0887"
             ],
             [
              0.1111111111111111,
              "#46039f"
             ],
             [
              0.2222222222222222,
              "#7201a8"
             ],
             [
              0.3333333333333333,
              "#9c179e"
             ],
             [
              0.4444444444444444,
              "#bd3786"
             ],
             [
              0.5555555555555556,
              "#d8576b"
             ],
             [
              0.6666666666666666,
              "#ed7953"
             ],
             [
              0.7777777777777778,
              "#fb9f3a"
             ],
             [
              0.8888888888888888,
              "#fdca26"
             ],
             [
              1,
              "#f0f921"
             ]
            ],
            "type": "histogram2d"
           }
          ],
          "histogram2dcontour": [
           {
            "colorbar": {
             "outlinewidth": 0,
             "ticks": ""
            },
            "colorscale": [
             [
              0,
              "#0d0887"
             ],
             [
              0.1111111111111111,
              "#46039f"
             ],
             [
              0.2222222222222222,
              "#7201a8"
             ],
             [
              0.3333333333333333,
              "#9c179e"
             ],
             [
              0.4444444444444444,
              "#bd3786"
             ],
             [
              0.5555555555555556,
              "#d8576b"
             ],
             [
              0.6666666666666666,
              "#ed7953"
             ],
             [
              0.7777777777777778,
              "#fb9f3a"
             ],
             [
              0.8888888888888888,
              "#fdca26"
             ],
             [
              1,
              "#f0f921"
             ]
            ],
            "type": "histogram2dcontour"
           }
          ],
          "mesh3d": [
           {
            "colorbar": {
             "outlinewidth": 0,
             "ticks": ""
            },
            "type": "mesh3d"
           }
          ],
          "parcoords": [
           {
            "line": {
             "colorbar": {
              "outlinewidth": 0,
              "ticks": ""
             }
            },
            "type": "parcoords"
           }
          ],
          "pie": [
           {
            "automargin": true,
            "type": "pie"
           }
          ],
          "scatter": [
           {
            "fillpattern": {
             "fillmode": "overlay",
             "size": 10,
             "solidity": 0.2
            },
            "type": "scatter"
           }
          ],
          "scatter3d": [
           {
            "line": {
             "colorbar": {
              "outlinewidth": 0,
              "ticks": ""
             }
            },
            "marker": {
             "colorbar": {
              "outlinewidth": 0,
              "ticks": ""
             }
            },
            "type": "scatter3d"
           }
          ],
          "scattercarpet": [
           {
            "marker": {
             "colorbar": {
              "outlinewidth": 0,
              "ticks": ""
             }
            },
            "type": "scattercarpet"
           }
          ],
          "scattergeo": [
           {
            "marker": {
             "colorbar": {
              "outlinewidth": 0,
              "ticks": ""
             }
            },
            "type": "scattergeo"
           }
          ],
          "scattergl": [
           {
            "marker": {
             "colorbar": {
              "outlinewidth": 0,
              "ticks": ""
             }
            },
            "type": "scattergl"
           }
          ],
          "scattermapbox": [
           {
            "marker": {
             "colorbar": {
              "outlinewidth": 0,
              "ticks": ""
             }
            },
            "type": "scattermapbox"
           }
          ],
          "scatterpolar": [
           {
            "marker": {
             "colorbar": {
              "outlinewidth": 0,
              "ticks": ""
             }
            },
            "type": "scatterpolar"
           }
          ],
          "scatterpolargl": [
           {
            "marker": {
             "colorbar": {
              "outlinewidth": 0,
              "ticks": ""
             }
            },
            "type": "scatterpolargl"
           }
          ],
          "scatterternary": [
           {
            "marker": {
             "colorbar": {
              "outlinewidth": 0,
              "ticks": ""
             }
            },
            "type": "scatterternary"
           }
          ],
          "surface": [
           {
            "colorbar": {
             "outlinewidth": 0,
             "ticks": ""
            },
            "colorscale": [
             [
              0,
              "#0d0887"
             ],
             [
              0.1111111111111111,
              "#46039f"
             ],
             [
              0.2222222222222222,
              "#7201a8"
             ],
             [
              0.3333333333333333,
              "#9c179e"
             ],
             [
              0.4444444444444444,
              "#bd3786"
             ],
             [
              0.5555555555555556,
              "#d8576b"
             ],
             [
              0.6666666666666666,
              "#ed7953"
             ],
             [
              0.7777777777777778,
              "#fb9f3a"
             ],
             [
              0.8888888888888888,
              "#fdca26"
             ],
             [
              1,
              "#f0f921"
             ]
            ],
            "type": "surface"
           }
          ],
          "table": [
           {
            "cells": {
             "fill": {
              "color": "#EBF0F8"
             },
             "line": {
              "color": "white"
             }
            },
            "header": {
             "fill": {
              "color": "#C8D4E3"
             },
             "line": {
              "color": "white"
             }
            },
            "type": "table"
           }
          ]
         },
         "layout": {
          "annotationdefaults": {
           "arrowcolor": "#2a3f5f",
           "arrowhead": 0,
           "arrowwidth": 1
          },
          "autotypenumbers": "strict",
          "coloraxis": {
           "colorbar": {
            "outlinewidth": 0,
            "ticks": ""
           }
          },
          "colorscale": {
           "diverging": [
            [
             0,
             "#8e0152"
            ],
            [
             0.1,
             "#c51b7d"
            ],
            [
             0.2,
             "#de77ae"
            ],
            [
             0.3,
             "#f1b6da"
            ],
            [
             0.4,
             "#fde0ef"
            ],
            [
             0.5,
             "#f7f7f7"
            ],
            [
             0.6,
             "#e6f5d0"
            ],
            [
             0.7,
             "#b8e186"
            ],
            [
             0.8,
             "#7fbc41"
            ],
            [
             0.9,
             "#4d9221"
            ],
            [
             1,
             "#276419"
            ]
           ],
           "sequential": [
            [
             0,
             "#0d0887"
            ],
            [
             0.1111111111111111,
             "#46039f"
            ],
            [
             0.2222222222222222,
             "#7201a8"
            ],
            [
             0.3333333333333333,
             "#9c179e"
            ],
            [
             0.4444444444444444,
             "#bd3786"
            ],
            [
             0.5555555555555556,
             "#d8576b"
            ],
            [
             0.6666666666666666,
             "#ed7953"
            ],
            [
             0.7777777777777778,
             "#fb9f3a"
            ],
            [
             0.8888888888888888,
             "#fdca26"
            ],
            [
             1,
             "#f0f921"
            ]
           ],
           "sequentialminus": [
            [
             0,
             "#0d0887"
            ],
            [
             0.1111111111111111,
             "#46039f"
            ],
            [
             0.2222222222222222,
             "#7201a8"
            ],
            [
             0.3333333333333333,
             "#9c179e"
            ],
            [
             0.4444444444444444,
             "#bd3786"
            ],
            [
             0.5555555555555556,
             "#d8576b"
            ],
            [
             0.6666666666666666,
             "#ed7953"
            ],
            [
             0.7777777777777778,
             "#fb9f3a"
            ],
            [
             0.8888888888888888,
             "#fdca26"
            ],
            [
             1,
             "#f0f921"
            ]
           ]
          },
          "colorway": [
           "#636efa",
           "#EF553B",
           "#00cc96",
           "#ab63fa",
           "#FFA15A",
           "#19d3f3",
           "#FF6692",
           "#B6E880",
           "#FF97FF",
           "#FECB52"
          ],
          "font": {
           "color": "#2a3f5f"
          },
          "geo": {
           "bgcolor": "white",
           "lakecolor": "white",
           "landcolor": "#E5ECF6",
           "showlakes": true,
           "showland": true,
           "subunitcolor": "white"
          },
          "hoverlabel": {
           "align": "left"
          },
          "hovermode": "closest",
          "mapbox": {
           "style": "light"
          },
          "paper_bgcolor": "white",
          "plot_bgcolor": "#E5ECF6",
          "polar": {
           "angularaxis": {
            "gridcolor": "white",
            "linecolor": "white",
            "ticks": ""
           },
           "bgcolor": "#E5ECF6",
           "radialaxis": {
            "gridcolor": "white",
            "linecolor": "white",
            "ticks": ""
           }
          },
          "scene": {
           "xaxis": {
            "backgroundcolor": "#E5ECF6",
            "gridcolor": "white",
            "gridwidth": 2,
            "linecolor": "white",
            "showbackground": true,
            "ticks": "",
            "zerolinecolor": "white"
           },
           "yaxis": {
            "backgroundcolor": "#E5ECF6",
            "gridcolor": "white",
            "gridwidth": 2,
            "linecolor": "white",
            "showbackground": true,
            "ticks": "",
            "zerolinecolor": "white"
           },
           "zaxis": {
            "backgroundcolor": "#E5ECF6",
            "gridcolor": "white",
            "gridwidth": 2,
            "linecolor": "white",
            "showbackground": true,
            "ticks": "",
            "zerolinecolor": "white"
           }
          },
          "shapedefaults": {
           "line": {
            "color": "#2a3f5f"
           }
          },
          "ternary": {
           "aaxis": {
            "gridcolor": "white",
            "linecolor": "white",
            "ticks": ""
           },
           "baxis": {
            "gridcolor": "white",
            "linecolor": "white",
            "ticks": ""
           },
           "bgcolor": "#E5ECF6",
           "caxis": {
            "gridcolor": "white",
            "linecolor": "white",
            "ticks": ""
           }
          },
          "title": {
           "x": 0.05
          },
          "xaxis": {
           "automargin": true,
           "gridcolor": "white",
           "linecolor": "white",
           "ticks": "",
           "title": {
            "standoff": 15
           },
           "zerolinecolor": "white",
           "zerolinewidth": 2
          },
          "yaxis": {
           "automargin": true,
           "gridcolor": "white",
           "linecolor": "white",
           "ticks": "",
           "title": {
            "standoff": 15
           },
           "zerolinecolor": "white",
           "zerolinewidth": 2
          }
         }
        },
        "title": {
         "text": "Estado civil perante o tempo"
        }
       }
      }
     },
     "metadata": {},
     "output_type": "display_data"
    }
   ],
   "source": [
    "fig = go.Figure()\n",
    "obj1 = go.Scatter(\n",
    "    x = [2018,2022],\n",
    "    y = [a,b],\n",
    "    mode = 'lines',\n",
    "    name='Casado',\n",
    ")\n",
    "obj2 = go.Scatter(\n",
    "      x = [2018,2022],\n",
    "    y = [c,d],\n",
    "    mode = 'lines',\n",
    "    name='Solteiro',\n",
    ")\n",
    "\n",
    "fig.add_trace(obj1)\n",
    "fig.add_trace(obj2)\n",
    "\n",
    "fig.update_layout(title='Estado civil perante o tempo')\n",
    "fig.show()"
   ]
  },
  {
   "attachments": {},
   "cell_type": "markdown",
   "metadata": {},
   "source": [
    "Não da para ver quase nada então irei normalizar,pelo método min e max , para poder ver os dois juntos"
   ]
  },
  {
   "cell_type": "code",
   "execution_count": 51,
   "metadata": {},
   "outputs": [
    {
     "data": {
      "text/plain": [
       "[1.0, 0.9125037844383893, 0.0, 0.0036330608537693005]"
      ]
     },
     "execution_count": 51,
     "metadata": {},
     "output_type": "execute_result"
    }
   ],
   "source": [
    "\n",
    "a_1 = (a-c)/(a-c)\n",
    "\n",
    "b_1 = (b-c)/(a-c)\n",
    "\n",
    "c_1 = (c-c)/(a-c)\n",
    "\n",
    "d_1 = (d-c)/(a-c)\n",
    "\n",
    "lista  = [a_1,b_1,c_1,d_1]\n",
    "lista"
   ]
  },
  {
   "cell_type": "code",
   "execution_count": 52,
   "metadata": {},
   "outputs": [
    {
     "data": {
      "application/vnd.plotly.v1+json": {
       "config": {
        "plotlyServerURL": "https://plot.ly"
       },
       "data": [
        {
         "mode": "lines",
         "name": "Casado",
         "type": "scatter",
         "x": [
          2018,
          2022
         ],
         "y": [
          1,
          0.9125037844383893
         ]
        },
        {
         "mode": "lines",
         "name": "Solteiro",
         "type": "scatter",
         "x": [
          2018,
          2022
         ],
         "y": [
          0,
          0.0036330608537693005
         ]
        }
       ],
       "layout": {
        "template": {
         "data": {
          "bar": [
           {
            "error_x": {
             "color": "#2a3f5f"
            },
            "error_y": {
             "color": "#2a3f5f"
            },
            "marker": {
             "line": {
              "color": "#E5ECF6",
              "width": 0.5
             },
             "pattern": {
              "fillmode": "overlay",
              "size": 10,
              "solidity": 0.2
             }
            },
            "type": "bar"
           }
          ],
          "barpolar": [
           {
            "marker": {
             "line": {
              "color": "#E5ECF6",
              "width": 0.5
             },
             "pattern": {
              "fillmode": "overlay",
              "size": 10,
              "solidity": 0.2
             }
            },
            "type": "barpolar"
           }
          ],
          "carpet": [
           {
            "aaxis": {
             "endlinecolor": "#2a3f5f",
             "gridcolor": "white",
             "linecolor": "white",
             "minorgridcolor": "white",
             "startlinecolor": "#2a3f5f"
            },
            "baxis": {
             "endlinecolor": "#2a3f5f",
             "gridcolor": "white",
             "linecolor": "white",
             "minorgridcolor": "white",
             "startlinecolor": "#2a3f5f"
            },
            "type": "carpet"
           }
          ],
          "choropleth": [
           {
            "colorbar": {
             "outlinewidth": 0,
             "ticks": ""
            },
            "type": "choropleth"
           }
          ],
          "contour": [
           {
            "colorbar": {
             "outlinewidth": 0,
             "ticks": ""
            },
            "colorscale": [
             [
              0,
              "#0d0887"
             ],
             [
              0.1111111111111111,
              "#46039f"
             ],
             [
              0.2222222222222222,
              "#7201a8"
             ],
             [
              0.3333333333333333,
              "#9c179e"
             ],
             [
              0.4444444444444444,
              "#bd3786"
             ],
             [
              0.5555555555555556,
              "#d8576b"
             ],
             [
              0.6666666666666666,
              "#ed7953"
             ],
             [
              0.7777777777777778,
              "#fb9f3a"
             ],
             [
              0.8888888888888888,
              "#fdca26"
             ],
             [
              1,
              "#f0f921"
             ]
            ],
            "type": "contour"
           }
          ],
          "contourcarpet": [
           {
            "colorbar": {
             "outlinewidth": 0,
             "ticks": ""
            },
            "type": "contourcarpet"
           }
          ],
          "heatmap": [
           {
            "colorbar": {
             "outlinewidth": 0,
             "ticks": ""
            },
            "colorscale": [
             [
              0,
              "#0d0887"
             ],
             [
              0.1111111111111111,
              "#46039f"
             ],
             [
              0.2222222222222222,
              "#7201a8"
             ],
             [
              0.3333333333333333,
              "#9c179e"
             ],
             [
              0.4444444444444444,
              "#bd3786"
             ],
             [
              0.5555555555555556,
              "#d8576b"
             ],
             [
              0.6666666666666666,
              "#ed7953"
             ],
             [
              0.7777777777777778,
              "#fb9f3a"
             ],
             [
              0.8888888888888888,
              "#fdca26"
             ],
             [
              1,
              "#f0f921"
             ]
            ],
            "type": "heatmap"
           }
          ],
          "heatmapgl": [
           {
            "colorbar": {
             "outlinewidth": 0,
             "ticks": ""
            },
            "colorscale": [
             [
              0,
              "#0d0887"
             ],
             [
              0.1111111111111111,
              "#46039f"
             ],
             [
              0.2222222222222222,
              "#7201a8"
             ],
             [
              0.3333333333333333,
              "#9c179e"
             ],
             [
              0.4444444444444444,
              "#bd3786"
             ],
             [
              0.5555555555555556,
              "#d8576b"
             ],
             [
              0.6666666666666666,
              "#ed7953"
             ],
             [
              0.7777777777777778,
              "#fb9f3a"
             ],
             [
              0.8888888888888888,
              "#fdca26"
             ],
             [
              1,
              "#f0f921"
             ]
            ],
            "type": "heatmapgl"
           }
          ],
          "histogram": [
           {
            "marker": {
             "pattern": {
              "fillmode": "overlay",
              "size": 10,
              "solidity": 0.2
             }
            },
            "type": "histogram"
           }
          ],
          "histogram2d": [
           {
            "colorbar": {
             "outlinewidth": 0,
             "ticks": ""
            },
            "colorscale": [
             [
              0,
              "#0d0887"
             ],
             [
              0.1111111111111111,
              "#46039f"
             ],
             [
              0.2222222222222222,
              "#7201a8"
             ],
             [
              0.3333333333333333,
              "#9c179e"
             ],
             [
              0.4444444444444444,
              "#bd3786"
             ],
             [
              0.5555555555555556,
              "#d8576b"
             ],
             [
              0.6666666666666666,
              "#ed7953"
             ],
             [
              0.7777777777777778,
              "#fb9f3a"
             ],
             [
              0.8888888888888888,
              "#fdca26"
             ],
             [
              1,
              "#f0f921"
             ]
            ],
            "type": "histogram2d"
           }
          ],
          "histogram2dcontour": [
           {
            "colorbar": {
             "outlinewidth": 0,
             "ticks": ""
            },
            "colorscale": [
             [
              0,
              "#0d0887"
             ],
             [
              0.1111111111111111,
              "#46039f"
             ],
             [
              0.2222222222222222,
              "#7201a8"
             ],
             [
              0.3333333333333333,
              "#9c179e"
             ],
             [
              0.4444444444444444,
              "#bd3786"
             ],
             [
              0.5555555555555556,
              "#d8576b"
             ],
             [
              0.6666666666666666,
              "#ed7953"
             ],
             [
              0.7777777777777778,
              "#fb9f3a"
             ],
             [
              0.8888888888888888,
              "#fdca26"
             ],
             [
              1,
              "#f0f921"
             ]
            ],
            "type": "histogram2dcontour"
           }
          ],
          "mesh3d": [
           {
            "colorbar": {
             "outlinewidth": 0,
             "ticks": ""
            },
            "type": "mesh3d"
           }
          ],
          "parcoords": [
           {
            "line": {
             "colorbar": {
              "outlinewidth": 0,
              "ticks": ""
             }
            },
            "type": "parcoords"
           }
          ],
          "pie": [
           {
            "automargin": true,
            "type": "pie"
           }
          ],
          "scatter": [
           {
            "fillpattern": {
             "fillmode": "overlay",
             "size": 10,
             "solidity": 0.2
            },
            "type": "scatter"
           }
          ],
          "scatter3d": [
           {
            "line": {
             "colorbar": {
              "outlinewidth": 0,
              "ticks": ""
             }
            },
            "marker": {
             "colorbar": {
              "outlinewidth": 0,
              "ticks": ""
             }
            },
            "type": "scatter3d"
           }
          ],
          "scattercarpet": [
           {
            "marker": {
             "colorbar": {
              "outlinewidth": 0,
              "ticks": ""
             }
            },
            "type": "scattercarpet"
           }
          ],
          "scattergeo": [
           {
            "marker": {
             "colorbar": {
              "outlinewidth": 0,
              "ticks": ""
             }
            },
            "type": "scattergeo"
           }
          ],
          "scattergl": [
           {
            "marker": {
             "colorbar": {
              "outlinewidth": 0,
              "ticks": ""
             }
            },
            "type": "scattergl"
           }
          ],
          "scattermapbox": [
           {
            "marker": {
             "colorbar": {
              "outlinewidth": 0,
              "ticks": ""
             }
            },
            "type": "scattermapbox"
           }
          ],
          "scatterpolar": [
           {
            "marker": {
             "colorbar": {
              "outlinewidth": 0,
              "ticks": ""
             }
            },
            "type": "scatterpolar"
           }
          ],
          "scatterpolargl": [
           {
            "marker": {
             "colorbar": {
              "outlinewidth": 0,
              "ticks": ""
             }
            },
            "type": "scatterpolargl"
           }
          ],
          "scatterternary": [
           {
            "marker": {
             "colorbar": {
              "outlinewidth": 0,
              "ticks": ""
             }
            },
            "type": "scatterternary"
           }
          ],
          "surface": [
           {
            "colorbar": {
             "outlinewidth": 0,
             "ticks": ""
            },
            "colorscale": [
             [
              0,
              "#0d0887"
             ],
             [
              0.1111111111111111,
              "#46039f"
             ],
             [
              0.2222222222222222,
              "#7201a8"
             ],
             [
              0.3333333333333333,
              "#9c179e"
             ],
             [
              0.4444444444444444,
              "#bd3786"
             ],
             [
              0.5555555555555556,
              "#d8576b"
             ],
             [
              0.6666666666666666,
              "#ed7953"
             ],
             [
              0.7777777777777778,
              "#fb9f3a"
             ],
             [
              0.8888888888888888,
              "#fdca26"
             ],
             [
              1,
              "#f0f921"
             ]
            ],
            "type": "surface"
           }
          ],
          "table": [
           {
            "cells": {
             "fill": {
              "color": "#EBF0F8"
             },
             "line": {
              "color": "white"
             }
            },
            "header": {
             "fill": {
              "color": "#C8D4E3"
             },
             "line": {
              "color": "white"
             }
            },
            "type": "table"
           }
          ]
         },
         "layout": {
          "annotationdefaults": {
           "arrowcolor": "#2a3f5f",
           "arrowhead": 0,
           "arrowwidth": 1
          },
          "autotypenumbers": "strict",
          "coloraxis": {
           "colorbar": {
            "outlinewidth": 0,
            "ticks": ""
           }
          },
          "colorscale": {
           "diverging": [
            [
             0,
             "#8e0152"
            ],
            [
             0.1,
             "#c51b7d"
            ],
            [
             0.2,
             "#de77ae"
            ],
            [
             0.3,
             "#f1b6da"
            ],
            [
             0.4,
             "#fde0ef"
            ],
            [
             0.5,
             "#f7f7f7"
            ],
            [
             0.6,
             "#e6f5d0"
            ],
            [
             0.7,
             "#b8e186"
            ],
            [
             0.8,
             "#7fbc41"
            ],
            [
             0.9,
             "#4d9221"
            ],
            [
             1,
             "#276419"
            ]
           ],
           "sequential": [
            [
             0,
             "#0d0887"
            ],
            [
             0.1111111111111111,
             "#46039f"
            ],
            [
             0.2222222222222222,
             "#7201a8"
            ],
            [
             0.3333333333333333,
             "#9c179e"
            ],
            [
             0.4444444444444444,
             "#bd3786"
            ],
            [
             0.5555555555555556,
             "#d8576b"
            ],
            [
             0.6666666666666666,
             "#ed7953"
            ],
            [
             0.7777777777777778,
             "#fb9f3a"
            ],
            [
             0.8888888888888888,
             "#fdca26"
            ],
            [
             1,
             "#f0f921"
            ]
           ],
           "sequentialminus": [
            [
             0,
             "#0d0887"
            ],
            [
             0.1111111111111111,
             "#46039f"
            ],
            [
             0.2222222222222222,
             "#7201a8"
            ],
            [
             0.3333333333333333,
             "#9c179e"
            ],
            [
             0.4444444444444444,
             "#bd3786"
            ],
            [
             0.5555555555555556,
             "#d8576b"
            ],
            [
             0.6666666666666666,
             "#ed7953"
            ],
            [
             0.7777777777777778,
             "#fb9f3a"
            ],
            [
             0.8888888888888888,
             "#fdca26"
            ],
            [
             1,
             "#f0f921"
            ]
           ]
          },
          "colorway": [
           "#636efa",
           "#EF553B",
           "#00cc96",
           "#ab63fa",
           "#FFA15A",
           "#19d3f3",
           "#FF6692",
           "#B6E880",
           "#FF97FF",
           "#FECB52"
          ],
          "font": {
           "color": "#2a3f5f"
          },
          "geo": {
           "bgcolor": "white",
           "lakecolor": "white",
           "landcolor": "#E5ECF6",
           "showlakes": true,
           "showland": true,
           "subunitcolor": "white"
          },
          "hoverlabel": {
           "align": "left"
          },
          "hovermode": "closest",
          "mapbox": {
           "style": "light"
          },
          "paper_bgcolor": "white",
          "plot_bgcolor": "#E5ECF6",
          "polar": {
           "angularaxis": {
            "gridcolor": "white",
            "linecolor": "white",
            "ticks": ""
           },
           "bgcolor": "#E5ECF6",
           "radialaxis": {
            "gridcolor": "white",
            "linecolor": "white",
            "ticks": ""
           }
          },
          "scene": {
           "xaxis": {
            "backgroundcolor": "#E5ECF6",
            "gridcolor": "white",
            "gridwidth": 2,
            "linecolor": "white",
            "showbackground": true,
            "ticks": "",
            "zerolinecolor": "white"
           },
           "yaxis": {
            "backgroundcolor": "#E5ECF6",
            "gridcolor": "white",
            "gridwidth": 2,
            "linecolor": "white",
            "showbackground": true,
            "ticks": "",
            "zerolinecolor": "white"
           },
           "zaxis": {
            "backgroundcolor": "#E5ECF6",
            "gridcolor": "white",
            "gridwidth": 2,
            "linecolor": "white",
            "showbackground": true,
            "ticks": "",
            "zerolinecolor": "white"
           }
          },
          "shapedefaults": {
           "line": {
            "color": "#2a3f5f"
           }
          },
          "ternary": {
           "aaxis": {
            "gridcolor": "white",
            "linecolor": "white",
            "ticks": ""
           },
           "baxis": {
            "gridcolor": "white",
            "linecolor": "white",
            "ticks": ""
           },
           "bgcolor": "#E5ECF6",
           "caxis": {
            "gridcolor": "white",
            "linecolor": "white",
            "ticks": ""
           }
          },
          "title": {
           "x": 0.05
          },
          "xaxis": {
           "automargin": true,
           "gridcolor": "white",
           "linecolor": "white",
           "ticks": "",
           "title": {
            "standoff": 15
           },
           "zerolinecolor": "white",
           "zerolinewidth": 2
          },
          "yaxis": {
           "automargin": true,
           "gridcolor": "white",
           "linecolor": "white",
           "ticks": "",
           "title": {
            "standoff": 15
           },
           "zerolinecolor": "white",
           "zerolinewidth": 2
          }
         }
        },
        "title": {
         "text": "Estado civil perante o tempo"
        }
       }
      }
     },
     "metadata": {},
     "output_type": "display_data"
    }
   ],
   "source": [
    "fig = go.Figure()\n",
    "obj1 = go.Scatter(\n",
    "    x = [2018,2022],\n",
    "    y = [a_1,b_1],\n",
    "    mode = 'lines',\n",
    "    name='Casado',\n",
    ")\n",
    "obj2 = go.Scatter(\n",
    "      x = [2018,2022],\n",
    "    y = [c_1,d_1],\n",
    "    mode = 'lines',\n",
    "    name='Solteiro',\n",
    ")\n",
    "\n",
    "fig.add_trace(obj1)\n",
    "fig.add_trace(obj2)\n",
    "\n",
    "fig.update_layout(title='Estado civil perante o tempo')\n",
    "fig.show()"
   ]
  },
  {
   "attachments": {},
   "cell_type": "markdown",
   "metadata": {},
   "source": [
    "**Conclusão** : A hipótese é falsas , uma vez que teve uma redução no número de casados e um aumento no número de solteiro."
   ]
  },
  {
   "attachments": {},
   "cell_type": "markdown",
   "metadata": {},
   "source": [
    "### Conclusão final : O dataset escolhido foi muito grande , ocupando quase 180MB , isso dificultou extremamente a análise , outros aspectos nos atributos como dados faltantes e do tipo string limitaram as visualizações possíveis nesse trabalho . Ademais , foi bem  gratificante implementar os aprendizados ocorrido durante todo o período de treinamento do PANDA . Um muito obrigado ."
   ]
  }
 ],
 "metadata": {
  "kernelspec": {
   "display_name": "Python 3",
   "language": "python",
   "name": "python3"
  },
  "language_info": {
   "codemirror_mode": {
    "name": "ipython",
    "version": 3
   },
   "file_extension": ".py",
   "mimetype": "text/x-python",
   "name": "python",
   "nbconvert_exporter": "python",
   "pygments_lexer": "ipython3",
   "version": "3.10.6"
  },
  "orig_nbformat": 4
 },
 "nbformat": 4,
 "nbformat_minor": 2
}
